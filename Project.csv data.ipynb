{
 "metadata": {
  "name": "Project.csv data"
 },
 "nbformat": 3,
 "nbformat_minor": 0,
 "worksheets": [
  {
   "cells": [
    {
     "cell_type": "code",
     "collapsed": false,
     "input": [
      "import numpy as np\n",
      "import pandas as pd, os\n",
      "import scipy.sparse as sps\n",
      "import itertools\n",
      "import random\n",
      "import sklearn.preprocessing as pre\n",
      "from sklearn.feature_extraction import DictVectorizer\n",
      "from sklearn.preprocessing import OneHotEncoder\n",
      "from sklearn import linear_model, cross_validation,svm,naive_bayes,ensemble"
     ],
     "language": "python",
     "metadata": {},
     "outputs": [],
     "prompt_number": 1
    },
    {
     "cell_type": "code",
     "collapsed": false,
     "input": [
      "projects = pd.read_csv('projects.csv')\n",
      "outcomes = pd.read_csv('outcomes.csv')\n",
      "\n",
      "projects = projects.sort('projectid')\n",
      "outcomes = outcomes.sort('projectid')"
     ],
     "language": "python",
     "metadata": {},
     "outputs": [],
     "prompt_number": 2
    },
    {
     "cell_type": "code",
     "collapsed": false,
     "input": [
      "#Create Labels\n",
      "le = pre.LabelEncoder()\n",
      "le.fit(outcomes['is_exciting'])\n",
      "outcomes['is_exciting']=le.transform(outcomes['is_exciting'])\n",
      "labels=outcomes['is_exciting']\n",
      "\n",
      "#create project array\n",
      "proj_arr = np.array(projects)\n",
      "\n",
      "#get train indx and test indx\n",
      "train_idx = np.where(proj_arr[:,-1] < '2014-01-01')[0]\n",
      "#train_idx=np.where(((ess_proj_arr[:,-1] > '2010-04-14') & (ess_proj_arr[:,-1] < '2014-01-01'))==True)[0]\n",
      "test_idx = np.where(proj_arr[:,-1] >= '2014-01-01')[0]"
     ],
     "language": "python",
     "metadata": {},
     "outputs": [],
     "prompt_number": 3
    },
    {
     "cell_type": "code",
     "collapsed": false,
     "input": [
      "def fill_nans(projects,col_heads):\n",
      "    le = pre.LabelEncoder()\n",
      "    for col in projects.columns:\n",
      "        if not isinstance(projects[col].values[0],(int, long, float, complex)) or any(pd.isnull(projects[col].values)) :\n",
      "            #THE if condition checks nan and non-numeric type and processes the data\n",
      "            uniq_val=pd.Series(projects[col].values.ravel()).unique()\n",
      "            while True:\n",
      "                indx=random.randint(0,len(uniq_val)-1)\n",
      "                if not pd.isnull(uniq_val[indx]):\n",
      "                    break   \n",
      "            projects[col]=projects[col].fillna(uniq_val[indx])\n",
      "            if col in col_heads:\n",
      "                le.fit(projects[col])\n",
      "                projects[col]=le.transform(projects[col])\n",
      "    return projects\n",
      "\n",
      "#takes pandas dataframe object has input\n",
      "def find_nonNumericalCol(df):\n",
      "    x= df.dtypes\n",
      "    indx=[]\n",
      "    for count in range(0,len(x)):\n",
      "        if x[count]=='object':\n",
      "            indx.append(count)   \n",
      "    return indx"
     ],
     "language": "python",
     "metadata": {},
     "outputs": [],
     "prompt_number": 4
    },
    {
     "cell_type": "code",
     "collapsed": false,
     "input": [],
     "language": "python",
     "metadata": {},
     "outputs": [],
     "prompt_number": 39
    },
    {
     "cell_type": "code",
     "collapsed": false,
     "input": [
      "# COnvert non-numeric coloumns to one hot encoding        \n",
      "col_head=projects.columns.values.tolist()\n",
      "#indx=find_nonNumericalCol(projects)\n",
      "indx= [ 6,7,8,9,10,11,12,13,14,15,16,17,18,19,20,21,22,23,24,25,26,27,32,33,34]\n",
      "cols=[col_head[x] for x in indx]\n",
      "\n",
      "indx1=[4,5,28,29,30,31]\n",
      "cols1=[col_head[x] for x in indx1]"
     ],
     "language": "python",
     "metadata": {},
     "outputs": [],
     "prompt_number": 5
    },
    {
     "cell_type": "code",
     "collapsed": false,
     "input": [
      "projects=fill_nans(projects,col_head)\n",
      "proj=projects.drop(['projectid','teacher_acctid' ,'schoolid', 'school_ncesid'],axis=1)"
     ],
     "language": "python",
     "metadata": {},
     "outputs": [],
     "prompt_number": 6
    },
    {
     "cell_type": "code",
     "collapsed": false,
     "input": [
      "df_tr=proj.ix[train_idx,cols]\n",
      "df_ts=proj.ix[test_idx,cols]\n",
      "\n",
      "df_sm_tr=projects.ix[train_idx,cols1]\n",
      "df_sm_ts=projects.ix[test_idx,cols1]"
     ],
     "language": "python",
     "metadata": {},
     "outputs": [],
     "prompt_number": 7
    },
    {
     "cell_type": "code",
     "collapsed": false,
     "input": [
      "D_tr=df_tr.to_records(index=False)\n",
      "D_ts=df_ts.to_records(index=False)\n",
      "\n",
      "enc = OneHotEncoder()\n",
      "tr_X=[]\n",
      "ts_X=[]\n",
      "[tr_X.append(list(item)) for item in D_tr]\n",
      "[ts_X.append(list(item)) for item in D_ts]\n",
      "tr_data=enc.fit_transform(tr_X)\n",
      "ts_data=enc.fit_transform(ts_X)"
     ],
     "language": "python",
     "metadata": {},
     "outputs": [],
     "prompt_number": 8
    },
    {
     "cell_type": "code",
     "collapsed": false,
     "input": [
      "tr_data1= np.array(df_sm_tr)\n",
      "ts_data1= np.array(df_sm_ts)"
     ],
     "language": "python",
     "metadata": {},
     "outputs": [],
     "prompt_number": 9
    },
    {
     "cell_type": "code",
     "collapsed": false,
     "input": [
      "training_data=sps.hstack((tr_data,tr_data1))\n",
      "testing_data=sps.hstack((ts_data,ts_data1))\n",
      "np.save('training_project_data',training_data)\n",
      "np.save('testing_project_data',testing_data)"
     ],
     "language": "python",
     "metadata": {},
     "outputs": [],
     "prompt_number": 11
    },
    {
     "cell_type": "code",
     "collapsed": false,
     "input": [
      "clf = svm.SVC(class_weight='auto',probability=True)\n",
      "clf.fit(training_data, labels) \n",
      "preds =clf.predict_proba(ts)[:,1]"
     ],
     "language": "python",
     "metadata": {},
     "outputs": [],
     "prompt_number": "*"
    },
    {
     "cell_type": "code",
     "collapsed": false,
     "input": [
      "#Write results to file\n",
      "\n",
      "sample['is_exciting'] = preds\n",
      "sample.to_csv('predictions_projects.csv', index = False)"
     ],
     "language": "python",
     "metadata": {},
     "outputs": [],
     "prompt_number": "*"
    },
    {
     "cell_type": "code",
     "collapsed": false,
     "input": [],
     "language": "python",
     "metadata": {},
     "outputs": [],
     "prompt_number": "*"
    },
    {
     "cell_type": "code",
     "collapsed": false,
     "input": [],
     "language": "python",
     "metadata": {},
     "outputs": [],
     "prompt_number": 97
    },
    {
     "cell_type": "code",
     "collapsed": false,
     "input": [],
     "language": "python",
     "metadata": {},
     "outputs": [],
     "prompt_number": 97
    },
    {
     "cell_type": "code",
     "collapsed": false,
     "input": [],
     "language": "python",
     "metadata": {},
     "outputs": [],
     "prompt_number": 97
    },
    {
     "cell_type": "code",
     "collapsed": false,
     "input": [],
     "language": "python",
     "metadata": {},
     "outputs": []
    }
   ],
   "metadata": {}
  }
 ]
}