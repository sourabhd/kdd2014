{
 "metadata": {
  "name": "EssayClassification_usingWordEmbeddings"
 },
 "nbformat": 3,
 "nbformat_minor": 0,
 "worksheets": [
  {
   "cells": [
    {
     "cell_type": "code",
     "collapsed": false,
     "input": [
      "import pandas as pd\n",
      "import numpy as np\n",
      "import cPickle as pickle\n",
      "import scipy.sparse as sps\n",
      "from sklearn import linear_model\n",
      "import sklearn.preprocessing as pre\n",
      "from sklearn.feature_extraction.text import TfidfVectorizer\n",
      "from sklearn import linear_model, cross_validation,svm,naive_bayes,ensemble\n",
      "import re \n",
      "from sklearn.pipeline import Pipeline\n",
      "from time import time\n",
      "from operator import itemgetter\n",
      "from scipy.stats import randint as sp_randint\n",
      "\n",
      "from sklearn.grid_search import GridSearchCV, RandomizedSearchCV\n",
      "from sklearn.ensemble import RandomForestClassifier\n",
      "from itertools import izip\n",
      "import os\n",
      "import matplotlib.pyplot as plt"
     ],
     "language": "python",
     "metadata": {},
     "outputs": [],
     "prompt_number": 1
    },
    {
     "cell_type": "code",
     "collapsed": false,
     "input": [
      "def load_embeddings(vocab,wordVectors):\n",
      "    embeddings={}\n",
      "    for line_vocab,line_wordVectors in izip(vocab,wordVectors):\n",
      "        vect=line_wordVectors.split()\n",
      "        line_vocab=line_vocab.rstrip('\\n')\n",
      "        embeddings[line_vocab.lower()]=map(float,vect)\n",
      "    return embeddings\n"
     ],
     "language": "python",
     "metadata": {},
     "outputs": [],
     "prompt_number": 2
    },
    {
     "cell_type": "code",
     "collapsed": false,
     "input": [
      "def clean(s):\n",
      "        try:\n",
      "            return \" \".join(re.findall(r'\\w+', s,flags = re.UNICODE | re.LOCALE)).lower()\n",
      "        except:\n",
      "            return \" \".join(re.findall(r'\\w+', \"no_text\",flags = re.UNICODE | re.LOCALE)).lower()\n",
      "\n",
      "#donations = pd.read_csv('donations.csv')\n",
      "projects = pd.read_csv('projects.csv')\n",
      "outcomes = pd.read_csv('outcomes.csv')\n",
      "#resources = pd.read_csv('resources.csv')\n",
      "sample = pd.read_csv('sampleSubmission.csv')\n",
      "essays = pd.read_csv('essays.csv')\n",
      "\n",
      "\n",
      "essays = essays.sort('projectid')\n",
      "projects = projects.sort('projectid')\n",
      "sample = sample.sort('projectid')\n",
      "ess_proj = pd.merge(essays, projects, on='projectid')\n",
      "outcomes = outcomes.sort('projectid')\n",
      "\n",
      "#Create Labels\n",
      "le = pre.LabelEncoder()\n",
      "le.fit(outcomes['is_exciting'])\n",
      "outcomes['is_exciting']=le.transform(outcomes['is_exciting'])\n",
      "labels=outcomes['is_exciting']\n",
      "\n",
      "#Clean essay data \n",
      "ess_proj['essay'] = ess_proj['essay'].apply(clean)\n",
      "ess_proj_arr = np.array(ess_proj)\n",
      "\n",
      "#get train indx and test indx\n",
      "train_idx = np.where(ess_proj_arr[:,-1] < '2014-01-01')[0]\n",
      "test_idx = np.where(ess_proj_arr[:,-1] >= '2014-01-01')[0]\n",
      "\n",
      "#ESSAY training Data\n",
      "traindata = ess_proj_arr[train_idx,:]\n",
      "testdata = ess_proj_arr[test_idx,:]"
     ],
     "language": "python",
     "metadata": {},
     "outputs": [],
     "prompt_number": 3
    },
    {
     "cell_type": "code",
     "collapsed": false,
     "input": [
      "#FURTHER SELECTIVE TRAINING DATA\n",
      "#FURTHER SELECTIVE TRAINING DATA\n",
      "gTruth=np.column_stack((np.array(labels),np.array(projects.ix[train_idx,'date_posted'])))\n",
      "train_idx=np.where(((traindata[:,-1] > '2010-01-01') & (traindata[:,-1] < '2014-01-01'))==True)[0]\n",
      "\n",
      "labels=labels[train_idx]\n",
      "traindata=traindata[train_idx,:]"
     ],
     "language": "python",
     "metadata": {},
     "outputs": [],
     "prompt_number": 4
    },
    {
     "cell_type": "code",
     "collapsed": false,
     "input": [
      "'''LOAD THE EMBEDDINGS'''\n",
      "pwd=os.getcwd()\n",
      "vocab=open(pwd+\"/kdd2014/data/ACL2012_wordVectorsTextFile/vocab.txt\",'r')\n",
      "wordVectors=open(pwd+\"/kdd2014/data/ACL2012_wordVectorsTextFile/wordVectors.txt\",'r')\n",
      "embeddings=load_embeddings(vocab,wordVectors)"
     ],
     "language": "python",
     "metadata": {},
     "outputs": [],
     "prompt_number": 5
    },
    {
     "cell_type": "code",
     "collapsed": false,
     "input": [
      "''' Generate vector reperesentation of the documents using embeddings and tfidf'''\n",
      "# Manipute the data for the classifier\n",
      "tfidf = TfidfVectorizer(min_df=3,  stop_words='english', lowercase=True,max_features=10000)\n",
      "tfidf.fit(traindata[:,5])\n",
      "tr = tfidf.transform(traindata[:,5])\n",
      "ts = tfidf.transform(testdata[:,5])"
     ],
     "language": "python",
     "metadata": {},
     "outputs": [],
     "prompt_number": 6
    },
    {
     "cell_type": "code",
     "collapsed": false,
     "input": [
      "feature_tokens=tfidf.get_feature_names()"
     ],
     "language": "python",
     "metadata": {},
     "outputs": [],
     "prompt_number": 7
    },
    {
     "cell_type": "code",
     "collapsed": false,
     "input": [
      "embedding_mat=[]\n",
      "fea_drop=[]\n",
      "count=0\n",
      "for x in feature_tokens:\n",
      "    if x in embeddings:\n",
      "        embedding_mat.append(embeddings[x]) \n",
      "    else:\n",
      "        temp=np.zeros((1,50))\n",
      "        embedding_mat.append(temp.tolist()[0])\n",
      "embedding_mat=np.array(embedding_mat).T\n",
      "                      "
     ],
     "language": "python",
     "metadata": {},
     "outputs": [],
     "prompt_number": 8
    },
    {
     "cell_type": "code",
     "collapsed": false,
     "input": [],
     "language": "python",
     "metadata": {},
     "outputs": [
      {
       "output_type": "pyout",
       "prompt_number": 18,
       "text": [
        "array([-0.005925,  0.006194,  0.003564, -0.004586, -0.00958 , -0.00168 ,\n",
        "       -0.008493, -0.001288,  0.004888,  0.006199, -0.001925,  0.005689,\n",
        "       -0.007154, -0.007426, -0.004111, -0.005425, -0.005389, -0.001541,\n",
        "        0.007132, -0.001061, -0.00059 , -0.001148,  0.009915, -0.000749,\n",
        "        0.005507, -0.007035, -0.001913,  0.001832,  0.006528,  0.006437,\n",
        "       -0.001133, -0.00716 , -0.005677,  0.003035, -0.001654, -0.00748 ,\n",
        "        0.008837,  0.00847 ,  0.003189, -0.004331, -0.008433, -0.007598,\n",
        "        0.007435,  0.005286,  0.002669, -0.009193,  0.002258, -0.007275,\n",
        "       -0.001527,  0.002075])"
       ]
      }
     ],
     "prompt_number": 18
    },
    {
     "cell_type": "code",
     "collapsed": false,
     "input": [
      "'''\n",
      "embedding_mat=[]\n",
      "fea_drop=[]\n",
      "count=0\n",
      "for x in feature_tokens:\n",
      "    if x in embeddings:\n",
      "        embedding_mat.append(embeddings[x]) \n",
      "    else:\n",
      "        fea_drop.append(count)\n",
      "    count+=1\n",
      "embedding_mat=np.array(embedding_mat).T\n",
      "'''\n"
     ],
     "language": "python",
     "metadata": {},
     "outputs": [],
     "prompt_number": 101
    },
    {
     "cell_type": "code",
     "collapsed": false,
     "input": [
      "tr"
     ],
     "language": "python",
     "metadata": {},
     "outputs": [
      {
       "output_type": "pyout",
       "prompt_number": 21,
       "text": [
        "<439478x10000 sparse matrix of type '<type 'numpy.float64'>'\n",
        "\twith 41934052 stored elements in Compressed Sparse Row format>"
       ]
      }
     ],
     "prompt_number": 21
    },
    {
     "cell_type": "code",
     "collapsed": false,
     "input": [
      "arr = np.array([[1,2,3,4], [5,6,7,8], [9,10,11,12]])"
     ],
     "language": "python",
     "metadata": {},
     "outputs": [],
     "prompt_number": 29
    },
    {
     "cell_type": "code",
     "collapsed": false,
     "input": [
      "#mod_tr=np.delete(tr.todense(),fea_drop,axis=1)\n",
      "#mod_ts=np.delete(ts.todense(),fea_drop,axis=1)"
     ],
     "language": "python",
     "metadata": {},
     "outputs": [],
     "prompt_number": "*"
    },
    {
     "cell_type": "code",
     "collapsed": false,
     "input": [
      "'''\n",
      "(m,n)=mod_tr.shape\n",
      "tr_data=[]\n",
      "for i in range(0,m):\n",
      "    tr_data.append(dot(mod_tr[i,:],embedding_mat\n",
      "'''"
     ],
     "language": "python",
     "metadata": {},
     "outputs": [],
     "prompt_number": "*"
    },
    {
     "cell_type": "code",
     "collapsed": false,
     "input": [
      "tr_data=tr*embedding_mat.T"
     ],
     "language": "python",
     "metadata": {},
     "outputs": [],
     "prompt_number": 24
    },
    {
     "cell_type": "code",
     "collapsed": false,
     "input": [
      "ts_data=ts*embedding_mat.T"
     ],
     "language": "python",
     "metadata": {},
     "outputs": [],
     "prompt_number": 27
    },
    {
     "cell_type": "code",
     "collapsed": false,
     "input": [
      "tr_data"
     ],
     "language": "python",
     "metadata": {},
     "outputs": [
      {
       "output_type": "pyout",
       "prompt_number": 34,
       "text": [
        "array([[-0.17532154, -1.25805273,  0.36801366, ...,  0.36293771,\n",
        "         0.5165075 ,  0.06336755],\n",
        "       [-0.15428225, -1.41477046, -0.20901818, ..., -0.87241926,\n",
        "        -0.33276459,  0.05855512],\n",
        "       [ 0.23900195, -1.4137975 , -0.12888713, ..., -1.59206541,\n",
        "         1.06843059,  0.24249934],\n",
        "       ..., \n",
        "       [ 0.36099462, -1.86232661,  0.84890139, ..., -0.19932879,\n",
        "         0.51000919,  1.26347945],\n",
        "       [ 0.81653892, -1.73236143,  0.65045527, ..., -1.01688811,\n",
        "         1.11570031,  0.35771976],\n",
        "       [ 0.91142452, -0.79473031,  0.2325716 , ...,  0.20565839,\n",
        "        -0.81666241,  0.27381776]])"
       ]
      }
     ],
     "prompt_number": 34
    },
    {
     "cell_type": "code",
     "collapsed": false,
     "input": [
      "pickle.dump(tr_data,open('training_essay_data','wb'))\n",
      "pickle.dump(ts_data,open('testing_essay_data','wb'))"
     ],
     "language": "python",
     "metadata": {},
     "outputs": [],
     "prompt_number": "*"
    },
    {
     "cell_type": "code",
     "collapsed": false,
     "input": [
      "#load the already generated  training data for projecst.csv\n",
      "tr_data=pickle.load(open('training_essay_data','rb'))\n",
      "ts_data=pickle.load(open('testing_essay_data','rb'))"
     ],
     "language": "python",
     "metadata": {},
     "outputs": [],
     "prompt_number": "*"
    },
    {
     "cell_type": "heading",
     "level": 2,
     "metadata": {},
     "source": [
      "SVM GRID SEARCH"
     ]
    },
    {
     "cell_type": "code",
     "collapsed": false,
     "input": [
      "clf = svm.SVC()\n",
      "c_val= np.arange(0.001, 1, 0.1)\n",
      "param_grid = { #\"loss\": [\"l1\"],\n",
      "              \"class_weight\":[\"auto\"],\n",
      "              \"C\": c_val.tolist()}\n",
      "grid_search = GridSearchCV(clf, param_grid=param_grid,scoring='roc_auc',n_jobs=10,verbose=1)\n",
      "start = time()\n",
      "grid_search.fit(pre.scale(tr_data),labels)\n",
      "print(\"GridSearchCV took %.2f seconds for %d candidate parameter settings.\"\n",
      "      % (time() - start, len(grid_search.grid_scores_)))\n",
      "best_parameters, score, _ = max(grid_search.grid_scores_, key=lambda x: x[1])"
     ],
     "language": "python",
     "metadata": {},
     "outputs": [
      {
       "output_type": "stream",
       "stream": "stdout",
       "text": [
        "Fitting 3 folds for each of 10 candidates, totalling 30 fits\n"
       ]
      },
      {
       "output_type": "stream",
       "stream": "stderr",
       "text": [
        "/usr/local/lib/python2.7/dist-packages/sklearn/externals/joblib/my_exceptions.py:26: DeprecationWarning: BaseException.message has been deprecated as of Python 2.6\n",
        "  self.message,\n",
        "/usr/local/lib/python2.7/dist-packages/sklearn/externals/joblib/my_exceptions.py:26: DeprecationWarning: BaseException.message has been deprecated as of Python 2.6\n",
        "  self.message,\n"
       ]
      }
     ],
     "prompt_number": "*"
    },
    {
     "cell_type": "code",
     "collapsed": false,
     "input": [
      "best_parameters"
     ],
     "language": "python",
     "metadata": {},
     "outputs": [],
     "prompt_number": "*"
    },
    {
     "cell_type": "code",
     "collapsed": false,
     "input": [
      "clf = svm.LinearSVC(loss='l1',class_weight='auto',C=0.5)\n",
      "clf.fit(pre.scale(tr_data), labels) "
     ],
     "language": "python",
     "metadata": {},
     "outputs": [
      {
       "output_type": "pyout",
       "prompt_number": 29,
       "text": [
        "LinearSVC(C=0.5, class_weight='auto', dual=True, fit_intercept=True,\n",
        "     intercept_scaling=1, loss='l1', multi_class='ovr', penalty='l2',\n",
        "     random_state=None, tol=0.0001, verbose=0)"
       ]
      }
     ],
     "prompt_number": 29
    },
    {
     "cell_type": "code",
     "collapsed": false,
     "input": [],
     "language": "python",
     "metadata": {},
     "outputs": []
    },
    {
     "cell_type": "code",
     "collapsed": false,
     "input": [
      "preds=clf.predict(pre.scale(ts_data))"
     ],
     "language": "python",
     "metadata": {},
     "outputs": [],
     "prompt_number": 30
    },
    {
     "cell_type": "code",
     "collapsed": false,
     "input": [
      "set(preds)"
     ],
     "language": "python",
     "metadata": {},
     "outputs": [
      {
       "output_type": "pyout",
       "prompt_number": 31,
       "text": [
        "set([0, 1])"
       ]
      }
     ],
     "prompt_number": 31
    },
    {
     "cell_type": "code",
     "collapsed": false,
     "input": [
      "#Write results to file\n",
      "\n",
      "sample['is_exciting'] = preds\n",
      "sample.to_csv('predictions_essay.csv', index = False)"
     ],
     "language": "python",
     "metadata": {},
     "outputs": [],
     "prompt_number": 32
    },
    {
     "cell_type": "code",
     "collapsed": false,
     "input": [],
     "language": "python",
     "metadata": {},
     "outputs": [],
     "prompt_number": "*"
    },
    {
     "cell_type": "code",
     "collapsed": false,
     "input": [],
     "language": "python",
     "metadata": {},
     "outputs": [],
     "prompt_number": "*"
    },
    {
     "cell_type": "code",
     "collapsed": false,
     "input": [],
     "language": "python",
     "metadata": {},
     "outputs": [],
     "prompt_number": "*"
    }
   ],
   "metadata": {}
  }
 ]
}