{
 "metadata": {
  "name": "Project_data_Classification"
 },
 "nbformat": 3,
 "nbformat_minor": 0,
 "worksheets": [
  {
   "cells": [
    {
     "cell_type": "code",
     "collapsed": false,
     "input": [
      "import numpy as np\n",
      "import pickle\n",
      "import scipy\n",
      "import pandas as pd, os\n",
      "import scipy.sparse as sps\n",
      "from time import time\n",
      "import itertools\n",
      "import random\n",
      "import sklearn.preprocessing as pre\n",
      "from sklearn.feature_extraction import DictVectorizer\n",
      "from sklearn.preprocessing import OneHotEncoder\n",
      "from sklearn import linear_model, cross_validation,svm,naive_bayes,ensemble\n",
      "from sklearn.grid_search import GridSearchCV, RandomizedSearchCV\n",
      "from sklearn.ensemble import AdaBoostClassifier"
     ],
     "language": "python",
     "metadata": {},
     "outputs": [],
     "prompt_number": 1
    },
    {
     "cell_type": "code",
     "collapsed": false,
     "input": [
      "projects = pd.read_csv('projects.csv')\n",
      "outcomes = pd.read_csv('outcomes.csv')\n",
      "samples = pd.read_csv('sampleSubmission.csv')\n",
      "\n",
      "projects = projects.sort('projectid')\n",
      "outcomes = outcomes.sort('projectid')\n",
      "samples = samples.sort('projectid')"
     ],
     "language": "python",
     "metadata": {},
     "outputs": [],
     "prompt_number": 2
    },
    {
     "cell_type": "heading",
     "level": 4,
     "metadata": {},
     "source": [
      "Load Project Data (accuracy when trained on just this data ~52%)"
     ]
    },
    {
     "cell_type": "code",
     "collapsed": false,
     "input": [
      "#load the already generated  training data for projecst.csv\n",
      "tr_proj=pickle.load(open(os.getcwd()+ '/data/training_project_data','rb'))\n",
      "ts_proj=pickle.load(open(os.getcwd()+ '/data/testing_project_data','rb'))\n",
      "labels=pickle.load(open('training_labels','rb'))"
     ],
     "language": "python",
     "metadata": {},
     "outputs": [],
     "prompt_number": 3
    },
    {
     "cell_type": "heading",
     "level": 4,
     "metadata": {},
     "source": [
      "Load Essay Data"
     ]
    },
    {
     "cell_type": "code",
     "collapsed": false,
     "input": [
      "#load the already generated  training data foressays.csv\n",
      "tr_essay=pickle.load(open(os.getcwd()+ '/data/training_essay_data','rb'))\n",
      "ts_essay=pickle.load(open(os.getcwd()+ '/data/testing_essay_data','rb'))"
     ],
     "language": "python",
     "metadata": {},
     "outputs": [],
     "prompt_number": 4
    },
    {
     "cell_type": "heading",
     "level": 4,
     "metadata": {},
     "source": [
      "Combine above data to create Training and Testing"
     ]
    },
    {
     "cell_type": "code",
     "collapsed": false,
     "input": [
      "#Combine projects.csv and essays.csv data for training and testing\n",
      "training_data=sps.hstack((tr_essay,tr_proj),format='csr')\n",
      "testing_data=sps.hstack((ts_essay,ts_proj),format='csr')"
     ],
     "language": "python",
     "metadata": {},
     "outputs": [],
     "prompt_number": 5
    },
    {
     "cell_type": "code",
     "collapsed": false,
     "input": [
      "scipy.stats.expon(scale=100)"
     ],
     "language": "python",
     "metadata": {},
     "outputs": [
      {
       "output_type": "pyout",
       "prompt_number": 26,
       "text": [
        "<scipy.stats.distributions.rv_frozen at 0x13d6e890>"
       ]
      }
     ],
     "prompt_number": 26
    },
    {
     "cell_type": "heading",
     "level": 2,
     "metadata": {},
     "source": [
      "Grid Search"
     ]
    },
    {
     "cell_type": "code",
     "collapsed": false,
     "input": [
      "# Utility function to report best scores\n",
      "def report(grid_scores, n_top=10):\n",
      "    top_scores = sorted(grid_scores, key=itemgetter(1), reverse=True)[:n_top]\n",
      "    for i, score in enumerate(top_scores):\n",
      "        print(\"Model with rank: {0}\".format(i + 1))\n",
      "        print(\"Mean validation score: {0:.3f} (std: {1:.3f})\".format(\n",
      "              score.mean_validation_score,\n",
      "              np.std(score.cv_validation_scores)))\n",
      "        print(\"Parameters: {0}\".format(score.parameters))\n",
      "        print(\"\")"
     ],
     "language": "python",
     "metadata": {},
     "outputs": [],
     "prompt_number": 6
    },
    {
     "cell_type": "code",
     "collapsed": false,
     "input": [
      "grid_clf=svm.SVC()\n",
      "param_grid = {'class_weight':['auto'],\n",
      "              'C': [1.5,2,2.2,2.5], \n",
      "              'probability' : [True],\n",
      "              'kernel': ['rbf'] }\n",
      "grid_search = GridSearchCV(grid_clf, param_grid=param_grid,scoring='roc_auc',n_jobs=10,verbose=1)\n",
      "grid_search.fit(pre.scale(training_data[100000:110000],with_mean=False),labels[100000:110000])"
     ],
     "language": "python",
     "metadata": {},
     "outputs": [
      {
       "output_type": "stream",
       "stream": "stdout",
       "text": [
        "Fitting 3 folds for each of 6 candidates, totalling 18 fits\n"
       ]
      },
      {
       "output_type": "stream",
       "stream": "stderr",
       "text": [
        "[Parallel(n_jobs=10)]: Done   1 out of  18 | elapsed:  8.7min remaining: 147.6min\n",
        "[Parallel(n_jobs=10)]: Done  18 out of  18 | elapsed: 14.8min finished\n"
       ]
      },
      {
       "output_type": "pyout",
       "prompt_number": 21,
       "text": [
        "GridSearchCV(cv=None,\n",
        "       estimator=SVC(C=1.0, cache_size=200, class_weight=None, coef0=0.0, degree=3, gamma=0.0,\n",
        "  kernel='rbf', max_iter=-1, probability=False, random_state=None,\n",
        "  shrinking=True, tol=0.001, verbose=False),\n",
        "       fit_params={}, iid=True, loss_func=None, n_jobs=10,\n",
        "       param_grid={'kernel': ['rbf'], 'C': [1, 2, 3, 4, 5, 6], 'probability': [True], 'class_weight': ['auto']},\n",
        "       pre_dispatch='2*n_jobs', refit=True, score_func=None,\n",
        "       scoring='roc_auc', verbose=1)"
       ]
      }
     ],
     "prompt_number": 21
    },
    {
     "cell_type": "code",
     "collapsed": false,
     "input": [
      "best_parameters, score, _ = max(grid_search.grid_scores_, key=lambda x: x[1])\n",
      "print best_parameters\n",
      "print score"
     ],
     "language": "python",
     "metadata": {},
     "outputs": [
      {
       "output_type": "stream",
       "stream": "stdout",
       "text": [
        "{'kernel': 'rbf', 'C': 2, 'probability': True, 'class_weight': 'auto'}\n",
        "0.618415723464\n"
       ]
      }
     ],
     "prompt_number": 22
    },
    {
     "cell_type": "heading",
     "level": 2,
     "metadata": {},
     "source": [
      "Classification"
     ]
    },
    {
     "cell_type": "heading",
     "level": 4,
     "metadata": {},
     "source": [
      "SVM Classification best_C=0.45 on full data"
     ]
    },
    {
     "cell_type": "code",
     "collapsed": false,
     "input": [
      "load=False\n",
      "if not load:\n",
      "    clf = svm.LinearSVC(loss='l1',class_weight='auto',C=1)\n",
      "    clf.fit(pre.scale(training_data,with_mean=False), labels) \n",
      "    pickle.dump(clf,open(os.getcwd()+'/models/svm_model_full','wb'))\n",
      "else:\n",
      "    clf=pickle.load(open('/models/svm_model','rb'))"
     ],
     "language": "python",
     "metadata": {},
     "outputs": [],
     "prompt_number": 17
    },
    {
     "cell_type": "code",
     "collapsed": false,
     "input": [
      "preds=clf.predict(pre.scale(testing_data,with_mean=False))"
     ],
     "language": "python",
     "metadata": {},
     "outputs": [],
     "prompt_number": 18
    },
    {
     "cell_type": "code",
     "collapsed": false,
     "input": [
      "set(preds)"
     ],
     "language": "python",
     "metadata": {},
     "outputs": [
      {
       "output_type": "pyout",
       "prompt_number": 19,
       "text": [
        "set([0, 1])"
       ]
      }
     ],
     "prompt_number": 19
    },
    {
     "cell_type": "heading",
     "level": 4,
     "metadata": {},
     "source": [
      "SVM Classification RBF Kernel"
     ]
    },
    {
     "cell_type": "code",
     "collapsed": false,
     "input": [
      "load_rbf=False\n",
      "if not load_rbf:\n",
      "    clf = svm.SVC(loss='l1',class_weight='auto',C=2, kernel='rbf',probability=True)\n",
      "    clf.fit(pre.scale(training_data,with_mean=False), labels) \n",
      "    pickle.dump(clf,open(os.getcwd()+'/models/svmRBF_model_full','wb'))\n",
      "else:\n",
      "    clf=pickle.load(open('/models/svmRBF_model','rb'))"
     ],
     "language": "python",
     "metadata": {},
     "outputs": []
    },
    {
     "cell_type": "code",
     "collapsed": false,
     "input": [
      "preds=clf.predict(pre.scale(testing_data,with_mean=False))"
     ],
     "language": "python",
     "metadata": {},
     "outputs": []
    },
    {
     "cell_type": "heading",
     "level": 4,
     "metadata": {},
     "source": [
      "Logistic Regression"
     ]
    },
    {
     "cell_type": "code",
     "collapsed": false,
     "input": [
      "load_lr=False\n",
      "if not load_lr:\n",
      "    lr = linear_model.LogisticRegression(penalty='l1',C=0.13,class_weight='auto')\n",
      "    lr.fit(pre.scale(training_data,with_mean=False), labels)\n",
      "    pickle.dump(lr,open(os.getcwd()+'/models/lr_model_full','wb'))\n",
      "else: \n",
      "    lr=pickle.load(open('/models/lr_model_full','rb'))\n",
      "\n"
     ],
     "language": "python",
     "metadata": {},
     "outputs": []
    },
    {
     "cell_type": "code",
     "collapsed": false,
     "input": [
      "preds =lr.predict_proba(pre.scale(testing_data,with_mean=False))[:,1]"
     ],
     "language": "python",
     "metadata": {},
     "outputs": []
    },
    {
     "cell_type": "code",
     "collapsed": false,
     "input": [],
     "language": "python",
     "metadata": {},
     "outputs": [],
     "prompt_number": 15
    },
    {
     "cell_type": "heading",
     "level": 2,
     "metadata": {},
     "source": [
      "Write Results to file"
     ]
    },
    {
     "cell_type": "code",
     "collapsed": false,
     "input": [
      "#Write results to file\n",
      "samples['is_exciting'] = preds\n",
      "samples.to_csv('predictions_fullData.csv', index = False)"
     ],
     "language": "python",
     "metadata": {},
     "outputs": [],
     "prompt_number": 20
    },
    {
     "cell_type": "code",
     "collapsed": false,
     "input": [],
     "language": "python",
     "metadata": {},
     "outputs": []
    }
   ],
   "metadata": {}
  }
 ]
}