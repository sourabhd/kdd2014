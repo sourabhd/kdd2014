{
 "metadata": {
  "name": "",
  "signature": "sha256:4f48e96d4716b7ca4049caf69a1880c48d26aeca07c3f56136987c71d5bee5d5"
 },
 "nbformat": 3,
 "nbformat_minor": 0,
 "worksheets": [
  {
   "cells": [
    {
     "cell_type": "code",
     "collapsed": false,
     "input": [
      "import pandas as pd\n",
      "import pandasql\n",
      "import h5py\n",
      "import numpy as np\n",
      "import cPickle as pickle\n",
      "import scipy.sparse as sps\n",
      "from sklearn import linear_model\n",
      "import sklearn.preprocessing as pre\n",
      "from sklearn.feature_extraction.text import TfidfVectorizer, CountVectorizer\n",
      "from sklearn import linear_model, cross_validation,svm,naive_bayes,ensemble\n",
      "import re \n",
      "from sklearn.pipeline import Pipeline\n",
      "from time import time\n",
      "from operator import itemgetter\n",
      "from scipy.stats import randint as sp_randint\n",
      "import scipy.io as io\n",
      "\n",
      "from sklearn.grid_search import GridSearchCV, RandomizedSearchCV\n",
      "from sklearn.ensemble import RandomForestClassifier\n",
      "from itertools import izip\n",
      "import os\n",
      "import matplotlib.pyplot as plt\n",
      "\n",
      "from __future__ import print_function\n",
      "import scipy.io as sio\n",
      "import pdb\n",
      "from time import time\n",
      "import logging\n",
      "from scipy.sparse import csc_matrix"
     ],
     "language": "python",
     "metadata": {},
     "outputs": [],
     "prompt_number": 1
    },
    {
     "cell_type": "code",
     "collapsed": false,
     "input": [
      "def load_embeddings(vocab,wordVectors):\n",
      "    embeddings={}\n",
      "    for line_vocab,line_wordVectors in izip(vocab,wordVectors):\n",
      "        vect=line_wordVectors.split()\n",
      "        line_vocab=line_vocab.rstrip('\\n')\n",
      "        embeddings[line_vocab.lower()]=map(float,vect)\n",
      "    return embeddings\n"
     ],
     "language": "python",
     "metadata": {},
     "outputs": [],
     "prompt_number": 19
    },
    {
     "cell_type": "code",
     "collapsed": false,
     "input": [
      "pr_data=pr_data.sort()\n",
      "tr_proj=pr_data['2013':'2014']\n",
      "ts_proj"
     ],
     "language": "python",
     "metadata": {},
     "outputs": [
      {
       "ename": "NameError",
       "evalue": "name 'pr_data' is not defined",
       "output_type": "pyerr",
       "traceback": [
        "\u001b[1;31m---------------------------------------------------------------------------\u001b[0m\n\u001b[1;31mNameError\u001b[0m                                 Traceback (most recent call last)",
        "\u001b[1;32m<ipython-input-20-253031dbd987>\u001b[0m in \u001b[0;36m<module>\u001b[1;34m()\u001b[0m\n\u001b[1;32m----> 1\u001b[1;33m \u001b[0mpr_data\u001b[0m\u001b[1;33m=\u001b[0m\u001b[0mpr_data\u001b[0m\u001b[1;33m.\u001b[0m\u001b[0msort\u001b[0m\u001b[1;33m(\u001b[0m\u001b[1;33m)\u001b[0m\u001b[1;33m\u001b[0m\u001b[0m\n\u001b[0m\u001b[0;32m      2\u001b[0m \u001b[0mtr_proj\u001b[0m\u001b[1;33m=\u001b[0m\u001b[0mpr_data\u001b[0m\u001b[1;33m[\u001b[0m\u001b[1;34m'2013'\u001b[0m\u001b[1;33m:\u001b[0m\u001b[1;34m'2014'\u001b[0m\u001b[1;33m]\u001b[0m\u001b[1;33m\u001b[0m\u001b[0m\n\u001b[0;32m      3\u001b[0m \u001b[0mts_proj\u001b[0m\u001b[1;33m\u001b[0m\u001b[0m\n",
        "\u001b[1;31mNameError\u001b[0m: name 'pr_data' is not defined"
       ]
      }
     ],
     "prompt_number": 20
    },
    {
     "cell_type": "code",
     "collapsed": false,
     "input": [
      "def clean(s):\n",
      "        try:\n",
      "            return \" \".join(re.findall(r'\\w+', s,flags = re.UNICODE | re.LOCALE)).lower()\n",
      "        except:\n",
      "            return \" \".join(re.findall(r'\\w+', \"no_text\",flags = re.UNICODE | re.LOCALE)).lower()\n",
      "\n",
      "#donations = pd.read_csv('donations.csv')\n",
      "projects = pd.read_csv('projects.csv')\n",
      "outcomes = pd.read_csv('outcomes.csv')\n",
      "#resources = pd.read_csv('resources.csv')\n",
      "sample = pd.read_csv('sampleSubmission.csv')\n",
      "essays = pd.read_csv('essays.csv')\n",
      "\n",
      "essays = essays.sort('projectid')\n",
      "projects = projects.sort('projectid')\n",
      "sample = sample.sort('projectid')\n",
      "ess_proj = pd.merge(essays, projects, on='projectid')\n",
      "ess_proj['essay'] = ess_proj['essay'].apply(clean)\n",
      "outcomes = outcomes.sort('projectid')\n",
      "\n",
      "pr_data=pd.merge(projects,outcomes.loc[:,['is_exciting','projectid']],on='projectid')\n",
      "pr_data=pr_data.set_index('date_posted')\n",
      "'''\n",
      "tr_proj=pr_data['2013':'2014']\n",
      "ts_proj=pr_data['2014':]\n",
      "'''\n",
      "#tr_essay=ess_proj[tr_critertion]\n",
      "#ts_essay=ess_proj[ts_critertion]\n",
      "\n",
      "#Create Labels\n",
      "le = pre.LabelEncoder()\n",
      "le.fit(outcomes['is_exciting'])\n",
      "outcomes['is_exciting']=le.transform(outcomes['is_exciting'])\n",
      "labels=outcomes['is_exciting']\n",
      "'''\n",
      "#Clean essay data \n",
      "\n",
      "ess_proj_arr = np.array(ess_proj)\n",
      "\n",
      "#get train indx and test indx\n",
      "train_idx = np.where(ess_proj_arr[:,-1] < '2014-01-01')[0]\n",
      "test_idx = np.where(ess_proj_arr[:,-1] >= '2014-01-01')[0]\n",
      "\n",
      "#ESSAY training Data\n",
      "traindata = ess_proj_arr[train_idx,:]\n",
      "testdata = ess_proj_arr[test_idx,:]\n",
      "'''"
     ],
     "language": "python",
     "metadata": {},
     "outputs": [
      {
       "metadata": {},
       "output_type": "pyout",
       "prompt_number": 128,
       "text": [
        "\"\\n#Clean essay data \\n\\ness_proj_arr = np.array(ess_proj)\\n\\n#get train indx and test indx\\ntrain_idx = np.where(ess_proj_arr[:,-1] < '2014-01-01')[0]\\ntest_idx = np.where(ess_proj_arr[:,-1] >= '2014-01-01')[0]\\n\\n#ESSAY training Data\\ntraindata = ess_proj_arr[train_idx,:]\\ntestdata = ess_proj_arr[test_idx,:]\\n\""
       ]
      }
     ],
     "prompt_number": 128
    },
    {
     "cell_type": "code",
     "collapsed": false,
     "input": [
      "ess_tr_proj=pd.merge(ess_proj,outcomes.loc[:,['is_exciting','projectid']],on='projectid')\n",
      "ess_tr_proj=ess_tr_proj.set_index('date_posted')\n",
      "ess_tr_proj=ess_tr_proj.sort()\n",
      "ess_tr_proj=ess_tr_proj['2013':'2014']\n",
      "\n",
      "ess_proj=ess_proj.set_index('date_posted')\n",
      "ess_proj=ess_proj.sort()"
     ],
     "language": "python",
     "metadata": {},
     "outputs": [],
     "prompt_number": 145
    },
    {
     "cell_type": "code",
     "collapsed": false,
     "input": [
      "labels=ess_tr_proj['is_exciting']\n",
      "labels.to_csv(os.getcwd()+'/fisher_embedding/training_Labels2013.csv',index=False)"
     ],
     "language": "python",
     "metadata": {},
     "outputs": [],
     "prompt_number": 151
    },
    {
     "cell_type": "code",
     "collapsed": false,
     "input": [],
     "language": "python",
     "metadata": {},
     "outputs": [],
     "prompt_number": 237
    },
    {
     "cell_type": "code",
     "collapsed": false,
     "input": [
      "embedding_data=ess_proj['2013':]\n",
      "embedding_data=np.array(embedding_data)"
     ],
     "language": "python",
     "metadata": {},
     "outputs": [],
     "prompt_number": 161
    },
    {
     "cell_type": "code",
     "collapsed": false,
     "input": [
      "'''LOAD THE EMBEDDINGS'''\n",
      "pwd=os.getcwd()\n",
      "vocab=open(pwd+\"/kdd2014/data/ACL2012_wordVectorsTextFile/vocab.txt\",'r')\n",
      "wordVectors=open(pwd+\"/kdd2014/data/ACL2012_wordVectorsTextFile/wordVectors.txt\",'r')\n",
      "embeddings=load_embeddings(vocab,wordVectors)"
     ],
     "language": "python",
     "metadata": {},
     "outputs": [],
     "prompt_number": 164
    },
    {
     "cell_type": "code",
     "collapsed": false,
     "input": [
      "Cv=CountVectorizer(analyzer='word',lowercase=True,min_df=3,vocabulary=embeddings.keys())\n",
      "Cv.fit(embedding_data[:,5])\n",
      "data=Cv.transform(embedding_data[:,5])"
     ],
     "language": "python",
     "metadata": {},
     "outputs": [
      {
       "metadata": {},
       "output_type": "pyout",
       "prompt_number": 170,
       "text": [
        "CountVectorizer(analyzer='word', binary=False, charset=None,\n",
        "        charset_error=None, decode_error=u'strict',\n",
        "        dtype=<type 'numpy.int64'>, encoding=u'utf-8', input=u'content',\n",
        "        lowercase=True, max_df=1.0, max_features=None, min_df=3,\n",
        "        ngram_range=(1, 1), preprocessor=None, stop_words=None,\n",
        "        strip_accents=None, token_pattern=u'(?u)\\\\b\\\\w\\\\w+\\\\b',\n",
        "        tokenizer=None, vocabulary=None)"
       ]
      }
     ],
     "prompt_number": 170
    },
    {
     "cell_type": "code",
     "collapsed": false,
     "input": [
      "mdict={'tr':data}\n",
      "io.savemat(os.getcwd()+'/fisher_embedding/embedData2013_14.mat',mdict)"
     ],
     "language": "python",
     "metadata": {},
     "outputs": [],
     "prompt_number": 171
    },
    {
     "cell_type": "code",
     "collapsed": false,
     "input": [
      "labels.shape"
     ],
     "language": "python",
     "metadata": {},
     "outputs": [
      {
       "metadata": {},
       "output_type": "pyout",
       "prompt_number": 238,
       "text": [
        "(131329,)"
       ]
      }
     ],
     "prompt_number": 238
    },
    {
     "cell_type": "heading",
     "level": 3,
     "metadata": {},
     "source": [
      "Classification"
     ]
    },
    {
     "cell_type": "code",
     "collapsed": false,
     "input": [
      "data=h5py.File(os.getcwd()+'/fisher_embedding/FisherEmbedded_Data.mat')"
     ],
     "language": "python",
     "metadata": {},
     "outputs": [],
     "prompt_number": 221
    },
    {
     "cell_type": "code",
     "collapsed": false,
     "input": [
      "X=data['Data'][u'ir']"
     ],
     "language": "python",
     "metadata": {},
     "outputs": [],
     "prompt_number": 228
    },
    {
     "cell_type": "code",
     "collapsed": false,
     "input": [
      "X.shape"
     ],
     "language": "python",
     "metadata": {},
     "outputs": [
      {
       "metadata": {},
       "output_type": "pyout",
       "prompt_number": 229,
       "text": [
        "(1190606300,)"
       ]
      }
     ],
     "prompt_number": 229
    },
    {
     "cell_type": "code",
     "collapsed": false,
     "input": [
      "1190606300/50000"
     ],
     "language": "python",
     "metadata": {},
     "outputs": [
      {
       "metadata": {},
       "output_type": "pyout",
       "prompt_number": 217,
       "text": [
        "23812"
       ]
      }
     ],
     "prompt_number": 217
    },
    {
     "cell_type": "code",
     "collapsed": false,
     "input": [
      "%xdel data"
     ],
     "language": "python",
     "metadata": {},
     "outputs": [
      {
       "output_type": "stream",
       "stream": "stdout",
       "text": [
        "NameError: name 'data' is not defined\n"
       ]
      }
     ],
     "prompt_number": 240
    },
    {
     "cell_type": "code",
     "collapsed": false,
     "input": [
      "\n",
      "class Loader:\n",
      "\n",
      "        def __init__(self, data_fname, data_vname):\n",
      "                self.data_fname = data_fname\n",
      "                self.data_vname = data_vname\n",
      "                self.data = None\n",
      "\n",
      "        def convert_to_sparse(self, h5file, vname):\n",
      "                return csc_matrix((h5file[vname]['data'],h5file[vname]['ir'],h5file[vname]['jc']))\n",
      "\n",
      "        def load_from_mat(self):\n",
      "                try:\n",
      "                        print(\"Loading ... %s\" % (self.data_fname))\n",
      "                        # Attempt normal .mat files\n",
      "                        self.data = sio.loadmat(self.data_fname)\n",
      "                except Exception as ex:\n",
      "                        # if it v7.3 file : it is HDF5 format database\n",
      "                        f = h5py.File(self.data_fname)\n",
      "                        self.data = self.convert_to_sparse(f,self.data_vname)\n",
      "                        f.close()\n",
      "                        #logging.exception(\"Failed to load matfile\" % (self.data_fname))\n",
      "                print(self.data)"
     ],
     "language": "python",
     "metadata": {},
     "outputs": [],
     "prompt_number": 5
    },
    {
     "cell_type": "code",
     "collapsed": false,
     "input": [
      "fisher_mat_fname = os.getcwd()+'/fisher_embedding/FisherEmbedded_Data.mat'\n",
      "fisher_mat_vname = 'Data'\n",
      "\n",
      "def convert_to_sparse(h5file, vname):\n",
      "        return csc_matrix((h5file[vname]['data'],h5file[vname]['ir'],h5file[vname]['jc']))\n",
      "\n",
      "f = h5py.File(fisher_mat_fname)\n",
      "data = convert_to_sparse(f,fisher_mat_vname)\n",
      "f.close()"
     ],
     "language": "python",
     "metadata": {},
     "outputs": [],
     "prompt_number": 16
    },
    {
     "cell_type": "code",
     "collapsed": false,
     "input": [
      "labels=np.loadtxt( os.getcwd()+'/fisher_embedding/training_Labels2013.csv')"
     ],
     "language": "python",
     "metadata": {},
     "outputs": [],
     "prompt_number": 23
    },
    {
     "cell_type": "code",
     "collapsed": false,
     "input": [
      "m=labels.shape\n",
      "tr_data=data[:m[0],:]\n",
      "ts_data=data[m[0]:,:]"
     ],
     "language": "python",
     "metadata": {},
     "outputs": [],
     "prompt_number": 53
    },
    {
     "cell_type": "code",
     "collapsed": false,
     "input": [],
     "language": "python",
     "metadata": {},
     "outputs": []
    },
    {
     "cell_type": "code",
     "collapsed": false,
     "input": [
      "clf = svm.LinearSVC(class_weight='auto',C=0.5)\n",
      "clf.fit(pre.scale(tr_data,with_mean=False), labels) "
     ],
     "language": "python",
     "metadata": {},
     "outputs": [
      {
       "ename": "ValueError",
       "evalue": "Array contains NaN or infinity.",
       "output_type": "pyerr",
       "traceback": [
        "\u001b[1;31m---------------------------------------------------------------------------\u001b[0m\n\u001b[1;31mValueError\u001b[0m                                Traceback (most recent call last)",
        "\u001b[1;32m<ipython-input-37-893bf302bec5>\u001b[0m in \u001b[0;36m<module>\u001b[1;34m()\u001b[0m\n\u001b[0;32m      1\u001b[0m \u001b[0mclf\u001b[0m \u001b[1;33m=\u001b[0m \u001b[0msvm\u001b[0m\u001b[1;33m.\u001b[0m\u001b[0mLinearSVC\u001b[0m\u001b[1;33m(\u001b[0m\u001b[0mclass_weight\u001b[0m\u001b[1;33m=\u001b[0m\u001b[1;34m'auto'\u001b[0m\u001b[1;33m,\u001b[0m\u001b[0mC\u001b[0m\u001b[1;33m=\u001b[0m\u001b[1;36m0.5\u001b[0m\u001b[1;33m)\u001b[0m\u001b[1;33m\u001b[0m\u001b[0m\n\u001b[1;32m----> 2\u001b[1;33m \u001b[0mclf\u001b[0m\u001b[1;33m.\u001b[0m\u001b[0mfit\u001b[0m\u001b[1;33m(\u001b[0m\u001b[0mpre\u001b[0m\u001b[1;33m.\u001b[0m\u001b[0mscale\u001b[0m\u001b[1;33m(\u001b[0m\u001b[0mtr_data\u001b[0m\u001b[1;33m,\u001b[0m\u001b[0mwith_mean\u001b[0m\u001b[1;33m=\u001b[0m\u001b[0mFalse\u001b[0m\u001b[1;33m)\u001b[0m\u001b[1;33m,\u001b[0m \u001b[0mlabels\u001b[0m\u001b[1;33m)\u001b[0m\u001b[1;33m\u001b[0m\u001b[0m\n\u001b[0m",
        "\u001b[1;32m/home/asarya/anaconda/lib/python2.7/site-packages/sklearn/svm/base.pyc\u001b[0m in \u001b[0;36mfit\u001b[1;34m(self, X, y)\u001b[0m\n\u001b[0;32m    666\u001b[0m                              \" one.\")\n\u001b[0;32m    667\u001b[0m \u001b[1;33m\u001b[0m\u001b[0m\n\u001b[1;32m--> 668\u001b[1;33m         \u001b[0mX\u001b[0m \u001b[1;33m=\u001b[0m \u001b[0matleast2d_or_csr\u001b[0m\u001b[1;33m(\u001b[0m\u001b[0mX\u001b[0m\u001b[1;33m,\u001b[0m \u001b[0mdtype\u001b[0m\u001b[1;33m=\u001b[0m\u001b[0mnp\u001b[0m\u001b[1;33m.\u001b[0m\u001b[0mfloat64\u001b[0m\u001b[1;33m,\u001b[0m \u001b[0morder\u001b[0m\u001b[1;33m=\u001b[0m\u001b[1;34m\"C\"\u001b[0m\u001b[1;33m)\u001b[0m\u001b[1;33m\u001b[0m\u001b[0m\n\u001b[0m\u001b[0;32m    669\u001b[0m \u001b[1;33m\u001b[0m\u001b[0m\n\u001b[0;32m    670\u001b[0m         self.class_weight_ = compute_class_weight(self.class_weight,\n",
        "\u001b[1;32m/home/asarya/anaconda/lib/python2.7/site-packages/sklearn/utils/validation.pyc\u001b[0m in \u001b[0;36matleast2d_or_csr\u001b[1;34m(X, dtype, order, copy, force_all_finite)\u001b[0m\n\u001b[0;32m    132\u001b[0m     \"\"\"\n\u001b[0;32m    133\u001b[0m     return _atleast2d_or_sparse(X, dtype, order, copy, sparse.csr_matrix,\n\u001b[1;32m--> 134\u001b[1;33m                                 \"tocsr\", force_all_finite)\n\u001b[0m\u001b[0;32m    135\u001b[0m \u001b[1;33m\u001b[0m\u001b[0m\n\u001b[0;32m    136\u001b[0m \u001b[1;33m\u001b[0m\u001b[0m\n",
        "\u001b[1;32m/home/asarya/anaconda/lib/python2.7/site-packages/sklearn/utils/validation.pyc\u001b[0m in \u001b[0;36m_atleast2d_or_sparse\u001b[1;34m(X, dtype, order, copy, sparse_class, convmethod, force_all_finite)\u001b[0m\n\u001b[0;32m    105\u001b[0m             \u001b[0mX\u001b[0m \u001b[1;33m=\u001b[0m \u001b[0msparse_class\u001b[0m\u001b[1;33m(\u001b[0m\u001b[0mX\u001b[0m\u001b[1;33m,\u001b[0m \u001b[0mdtype\u001b[0m\u001b[1;33m=\u001b[0m\u001b[0mdtype\u001b[0m\u001b[1;33m)\u001b[0m\u001b[1;33m\u001b[0m\u001b[0m\n\u001b[0;32m    106\u001b[0m         \u001b[1;32mif\u001b[0m \u001b[0mforce_all_finite\u001b[0m\u001b[1;33m:\u001b[0m\u001b[1;33m\u001b[0m\u001b[0m\n\u001b[1;32m--> 107\u001b[1;33m             \u001b[0m_assert_all_finite\u001b[0m\u001b[1;33m(\u001b[0m\u001b[0mX\u001b[0m\u001b[1;33m.\u001b[0m\u001b[0mdata\u001b[0m\u001b[1;33m)\u001b[0m\u001b[1;33m\u001b[0m\u001b[0m\n\u001b[0m\u001b[0;32m    108\u001b[0m         \u001b[0mX\u001b[0m\u001b[1;33m.\u001b[0m\u001b[0mdata\u001b[0m \u001b[1;33m=\u001b[0m \u001b[0mnp\u001b[0m\u001b[1;33m.\u001b[0m\u001b[0marray\u001b[0m\u001b[1;33m(\u001b[0m\u001b[0mX\u001b[0m\u001b[1;33m.\u001b[0m\u001b[0mdata\u001b[0m\u001b[1;33m,\u001b[0m \u001b[0mcopy\u001b[0m\u001b[1;33m=\u001b[0m\u001b[0mFalse\u001b[0m\u001b[1;33m,\u001b[0m \u001b[0morder\u001b[0m\u001b[1;33m=\u001b[0m\u001b[0morder\u001b[0m\u001b[1;33m)\u001b[0m\u001b[1;33m\u001b[0m\u001b[0m\n\u001b[0;32m    109\u001b[0m     \u001b[1;32melse\u001b[0m\u001b[1;33m:\u001b[0m\u001b[1;33m\u001b[0m\u001b[0m\n",
        "\u001b[1;32m/home/asarya/anaconda/lib/python2.7/site-packages/sklearn/utils/validation.pyc\u001b[0m in \u001b[0;36m_assert_all_finite\u001b[1;34m(X)\u001b[0m\n\u001b[0;32m     25\u001b[0m     if (X.dtype.char in np.typecodes['AllFloat'] and not np.isfinite(X.sum())\n\u001b[0;32m     26\u001b[0m             and not np.isfinite(X).all()):\n\u001b[1;32m---> 27\u001b[1;33m         \u001b[1;32mraise\u001b[0m \u001b[0mValueError\u001b[0m\u001b[1;33m(\u001b[0m\u001b[1;34m\"Array contains NaN or infinity.\"\u001b[0m\u001b[1;33m)\u001b[0m\u001b[1;33m\u001b[0m\u001b[0m\n\u001b[0m\u001b[0;32m     28\u001b[0m \u001b[1;33m\u001b[0m\u001b[0m\n\u001b[0;32m     29\u001b[0m \u001b[1;33m\u001b[0m\u001b[0m\n",
        "\u001b[1;31mValueError\u001b[0m: Array contains NaN or infinity."
       ]
      }
     ],
     "prompt_number": 37
    },
    {
     "cell_type": "code",
     "collapsed": false,
     "input": [
      "x=tr_data[1,:]"
     ],
     "language": "python",
     "metadata": {},
     "outputs": [],
     "prompt_number": 45
    },
    {
     "cell_type": "code",
     "collapsed": false,
     "input": [
      "x.todense()"
     ],
     "language": "python",
     "metadata": {},
     "outputs": [
      {
       "metadata": {},
       "output_type": "pyout",
       "prompt_number": 47,
       "text": [
        "matrix([[ 0.00397382,  0.00717904,  0.00443036, ...,  0.        ,\n",
        "          0.        ,  0.        ]])"
       ]
      }
     ],
     "prompt_number": 47
    },
    {
     "cell_type": "code",
     "collapsed": false,
     "input": [
      "tr_data=np.nan_to_num(tr_data.)"
     ],
     "language": "python",
     "metadata": {},
     "outputs": [],
     "prompt_number": 50
    },
    {
     "cell_type": "code",
     "collapsed": false,
     "input": [
      "tr_data.shape"
     ],
     "language": "python",
     "metadata": {},
     "outputs": [
      {
       "metadata": {},
       "output_type": "pyout",
       "prompt_number": 52,
       "text": [
        "(885887800,)"
       ]
      }
     ],
     "prompt_number": 52
    },
    {
     "cell_type": "code",
     "collapsed": false,
     "input": [],
     "language": "python",
     "metadata": {},
     "outputs": []
    }
   ],
   "metadata": {}
  }
 ]
}