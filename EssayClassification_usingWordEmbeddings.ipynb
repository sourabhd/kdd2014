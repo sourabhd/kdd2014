{
 "metadata": {
  "name": "EssayClassification_usingWordEmbeddings"
 },
 "nbformat": 3,
 "nbformat_minor": 0,
 "worksheets": [
  {
   "cells": [
    {
     "cell_type": "code",
     "collapsed": false,
     "input": [
      "import pandas as pd\n",
      "import numpy as np\n",
      "import cPickle as pickle\n",
      "import scipy.sparse as sps\n",
      "from sklearn import linear_model\n",
      "import sklearn.preprocessing as pre\n",
      "from sklearn.feature_extraction.text import TfidfVectorizer\n",
      "from sklearn import linear_model, cross_validation,svm,naive_bayes,ensemble\n",
      "import re \n",
      "from sklearn.pipeline import Pipeline\n",
      "from time import time\n",
      "from operator import itemgetter\n",
      "from scipy.stats import randint as sp_randint\n",
      "\n",
      "from sklearn.grid_search import GridSearchCV, RandomizedSearchCV\n",
      "from sklearn.ensemble import RandomForestClassifier\n",
      "from itertools import izip\n",
      "import os\n",
      "import matplotlib.pyplot as plt"
     ],
     "language": "python",
     "metadata": {},
     "outputs": [],
     "prompt_number": 79
    },
    {
     "cell_type": "code",
     "collapsed": false,
     "input": [
      "def load_embeddings(vocab,wordVectors):\n",
      "    embeddings={}\n",
      "    for line_vocab,line_wordVectors in izip(vocab,wordVectors):\n",
      "        vect=line_wordVectors.split()\n",
      "        line_vocab=line_vocab.rstrip('\\n')\n",
      "        embeddings[line_vocab.lower()]=map(float,vect)\n",
      "    return embeddings\n"
     ],
     "language": "python",
     "metadata": {},
     "outputs": [],
     "prompt_number": 37
    },
    {
     "cell_type": "code",
     "collapsed": false,
     "input": [
      "def clean(s):\n",
      "        try:\n",
      "            return \" \".join(re.findall(r'\\w+', s,flags = re.UNICODE | re.LOCALE)).lower()\n",
      "        except:\n",
      "            return \" \".join(re.findall(r'\\w+', \"no_text\",flags = re.UNICODE | re.LOCALE)).lower()\n",
      "\n",
      "#donations = pd.read_csv('donations.csv')\n",
      "projects = pd.read_csv('projects.csv')\n",
      "outcomes = pd.read_csv('outcomes.csv')\n",
      "#resources = pd.read_csv('resources.csv')\n",
      "sample = pd.read_csv('sampleSubmission.csv')\n",
      "essays = pd.read_csv('essays.csv')\n",
      "\n",
      "\n",
      "essays = essays.sort('projectid')\n",
      "projects = projects.sort('projectid')\n",
      "sample = sample.sort('projectid')\n",
      "ess_proj = pd.merge(essays, projects, on='projectid')\n",
      "outcomes = outcomes.sort('projectid')\n",
      "\n",
      "#Create Labels\n",
      "le = pre.LabelEncoder()\n",
      "le.fit(outcomes['is_exciting'])\n",
      "outcomes['is_exciting']=le.transform(outcomes['is_exciting'])\n",
      "labels=outcomes['is_exciting']\n",
      "\n",
      "#Clean essay data \n",
      "ess_proj['essay'] = ess_proj['essay'].apply(clean)\n",
      "ess_proj_arr = np.array(ess_proj)\n",
      "\n",
      "#get train indx and test indx\n",
      "train_idx = np.where(ess_proj_arr[:,-1] < '2014-01-01')[0]\n",
      "test_idx = np.where(ess_proj_arr[:,-1] >= '2014-01-01')[0]\n",
      "\n",
      "#ESSAY training Data\n",
      "traindata = ess_proj_arr[train_idx,:]\n",
      "testdata = ess_proj_arr[test_idx,:]"
     ],
     "language": "python",
     "metadata": {},
     "outputs": [],
     "prompt_number": 38
    },
    {
     "cell_type": "code",
     "collapsed": false,
     "input": [
      "#FURTHER SELECTIVE TRAINING DATA\n",
      "#FURTHER SELECTIVE TRAINING DATA\n",
      "gTruth=np.column_stack((np.array(labels),np.array(projects.ix[train_idx,'date_posted'])))\n",
      "train_idx=np.where(((traindata[:,-1] > '2010-01-01') & (traindata[:,-1] < '2014-01-01'))==True)[0]\n",
      "\n",
      "labels=labels[train_idx]\n",
      "traindata=traindata[train_idx,:]"
     ],
     "language": "python",
     "metadata": {},
     "outputs": [],
     "prompt_number": 39
    },
    {
     "cell_type": "code",
     "collapsed": false,
     "input": [
      "'''LOAD THE EMBEDDINGS'''\n",
      "pwd=os.getcwd()\n",
      "vocab=open(pwd+\"/kdd2014/data/ACL2012_wordVectorsTextFile/vocab.txt\",'r')\n",
      "wordVectors=open(pwd+\"/kdd2014/data/ACL2012_wordVectorsTextFile/wordVectors.txt\",'r')\n",
      "embeddings=load_embeddings(vocab,wordVectors)"
     ],
     "language": "python",
     "metadata": {},
     "outputs": [],
     "prompt_number": 40
    },
    {
     "cell_type": "code",
     "collapsed": false,
     "input": [
      "''' Generate vector reperesentation of the documents using embeddings and tfidf'''\n",
      "# Manipute the data for the classifier\n",
      "tfidf = TfidfVectorizer(min_df=3,  stop_words='english', lowercase=True,max_features=10000)\n",
      "tfidf.fit(traindata[:,5])\n",
      "tr = tfidf.transform(traindata[:,5])\n",
      "ts = tfidf.transform(testdata[:,5])"
     ],
     "language": "python",
     "metadata": {},
     "outputs": [],
     "prompt_number": 41
    },
    {
     "cell_type": "code",
     "collapsed": false,
     "input": [
      "feature_tokens=tfidf.get_feature_names()"
     ],
     "language": "python",
     "metadata": {},
     "outputs": [],
     "prompt_number": 42
    },
    {
     "cell_type": "code",
     "collapsed": false,
     "input": [],
     "language": "python",
     "metadata": {},
     "outputs": [],
     "prompt_number": 42
    },
    {
     "cell_type": "code",
     "collapsed": false,
     "input": [
      "embedding_mat=[]\n",
      "fea_drop=[]\n",
      "count=0\n",
      "for x in feature_tokens:\n",
      "    if x in embeddings:\n",
      "        embedding_mat.append(embeddings[x]) \n",
      "    else:\n",
      "        fea_drop.append(count)\n",
      "    count+=1\n",
      "embedding_mat=np.array(embedding_mat).T"
     ],
     "language": "python",
     "metadata": {},
     "outputs": [],
     "prompt_number": 43
    },
    {
     "cell_type": "code",
     "collapsed": false,
     "input": [
      "arr = np.array([[1,2,3,4], [5,6,7,8], [9,10,11,12]])"
     ],
     "language": "python",
     "metadata": {},
     "outputs": [],
     "prompt_number": 44
    },
    {
     "cell_type": "code",
     "collapsed": false,
     "input": [
      "mod_tr=np.delete(tr.todense(),fea_drop,axis=1)\n",
      "mod_ts=np.delete(ts.todense(),fea_drop,axis=1)"
     ],
     "language": "python",
     "metadata": {},
     "outputs": [],
     "prompt_number": 45
    },
    {
     "cell_type": "code",
     "collapsed": false,
     "input": [
      "(m,n)=mod_tr.shape\n",
      "tr_data=[]\n",
      "for i in range(0,m):\n",
      "    tr_data.append(dot(mod_tr[i,:],embedding_mat"
     ],
     "language": "python",
     "metadata": {},
     "outputs": [
      {
       "output_type": "pyout",
       "prompt_number": 47,
       "text": [
        "(439478, 971)"
       ]
      }
     ],
     "prompt_number": 47
    },
    {
     "cell_type": "code",
     "collapsed": false,
     "input": [
      "tr_data=np.dot(mod_tr,embedding_mat.T)"
     ],
     "language": "python",
     "metadata": {},
     "outputs": [],
     "prompt_number": 57
    },
    {
     "cell_type": "code",
     "collapsed": false,
     "input": [
      "ts_data=np.dot(mod_ts,embedding_mat.T)"
     ],
     "language": "python",
     "metadata": {},
     "outputs": [],
     "prompt_number": 61
    },
    {
     "cell_type": "code",
     "collapsed": false,
     "input": [
      "x"
     ],
     "language": "python",
     "metadata": {},
     "outputs": [
      {
       "output_type": "pyout",
       "prompt_number": 58,
       "text": [
        "matrix([[-0.2009932 , -1.52372009, -0.2153113 ,  0.59333429,  1.04285914,\n",
        "          1.22055964,  3.23797091,  0.49608251, -0.62659176,  0.09132067,\n",
        "         -0.07831142,  0.93022062,  0.78100029, -1.18236077,  1.22110548,\n",
        "          0.7878095 ,  0.93444613, -1.31347326,  1.65407227,  0.3543784 ,\n",
        "         -0.62447777,  1.41393533,  0.10015154, -1.6164941 ,  0.50033381,\n",
        "         -0.96809582, -1.92965386, -0.85521177, -0.69368557, -0.48585732,\n",
        "          2.05619342,  0.06287362, -0.60952876,  2.98432674,  0.53537298,\n",
        "          0.61468608,  0.3388648 , -0.1528518 ,  1.13054253,  1.3247082 ,\n",
        "          2.13966725,  1.5108603 ,  0.74311788, -0.97363959,  0.43823213,\n",
        "          0.26648473,  1.11294137, -0.96632881, -0.35607647, -0.10298929]])"
       ]
      }
     ],
     "prompt_number": 58
    },
    {
     "cell_type": "code",
     "collapsed": false,
     "input": [
      "pickle.dump(tr_data,open('training_essay_data','wb'))\n",
      "pickle.dump(ts_data,open('testing_essay_data','wb'))"
     ],
     "language": "python",
     "metadata": {},
     "outputs": [],
     "prompt_number": 62
    },
    {
     "cell_type": "code",
     "collapsed": false,
     "input": [
      "#load the already generated  training data for projecst.csv\n",
      "tr_data=pickle.load(open('training_essay_data','rb'))\n",
      "ts_data=pickle.load(open('testing_essay_data','rb'))"
     ],
     "language": "python",
     "metadata": {},
     "outputs": [],
     "prompt_number": 65
    },
    {
     "cell_type": "code",
     "collapsed": false,
     "input": [
      "clf = svm.LinearSVC(loss='l1',class_weight='auto',C=0.5)\n",
      "clf.fit(pre.scale(tr_data), labels) "
     ],
     "language": "python",
     "metadata": {},
     "outputs": [
      {
       "output_type": "pyout",
       "prompt_number": 70,
       "text": [
        "LinearSVC(C=0.5, class_weight='auto', dual=True, fit_intercept=True,\n",
        "     intercept_scaling=1, loss='l1', multi_class='ovr', penalty='l2',\n",
        "     random_state=None, tol=0.0001, verbose=0)"
       ]
      }
     ],
     "prompt_number": 70
    },
    {
     "cell_type": "code",
     "collapsed": false,
     "input": [
      "preds=clf.predict(pre.scale(ts_data))"
     ],
     "language": "python",
     "metadata": {},
     "outputs": [],
     "prompt_number": 89
    },
    {
     "cell_type": "code",
     "collapsed": false,
     "input": [
      "set(preds)"
     ],
     "language": "python",
     "metadata": {},
     "outputs": [
      {
       "output_type": "pyout",
       "prompt_number": 72,
       "text": [
        "set([0, 1])"
       ]
      }
     ],
     "prompt_number": 72
    },
    {
     "cell_type": "code",
     "collapsed": false,
     "input": [
      "#Write results to file\n",
      "\n",
      "sample['is_exciting'] = preds\n",
      "sample.to_csv('predictions_essay.csv', index = False)"
     ],
     "language": "python",
     "metadata": {},
     "outputs": [],
     "prompt_number": 73
    },
    {
     "cell_type": "code",
     "collapsed": false,
     "input": [],
     "language": "python",
     "metadata": {},
     "outputs": [],
     "prompt_number": 90
    },
    {
     "cell_type": "code",
     "collapsed": false,
     "input": [],
     "language": "python",
     "metadata": {},
     "outputs": [
      {
       "output_type": "pyout",
       "prompt_number": 93,
       "text": [
        "44772"
       ]
      }
     ],
     "prompt_number": 93
    },
    {
     "cell_type": "code",
     "collapsed": false,
     "input": [],
     "language": "python",
     "metadata": {},
     "outputs": []
    }
   ],
   "metadata": {}
  }
 ]
}