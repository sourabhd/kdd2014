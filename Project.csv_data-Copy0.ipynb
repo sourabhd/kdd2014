{
 "metadata": {
  "name": "Project.csv_data-Copy0"
 },
 "nbformat": 3,
 "nbformat_minor": 0,
 "worksheets": [
  {
   "cells": [
    {
     "cell_type": "code",
     "collapsed": false,
     "input": [
      "import numpy as np\n",
      "import cPickle as pickle\n",
      "import pandas as pd, os\n",
      "import scipy.sparse as sps\n",
      "from time import time\n",
      "import itertools\n",
      "import random\n",
      "import sklearn.preprocessing as pre\n",
      "from sklearn.feature_extraction import DictVectorizer\n",
      "from sklearn.preprocessing import OneHotEncoder\n",
      "from sklearn import linear_model, cross_validation,svm,naive_bayes,ensemble\n",
      "from sklearn.grid_search import GridSearchCV, RandomizedSearchCV"
     ],
     "language": "python",
     "metadata": {},
     "outputs": [],
     "prompt_number": 18
    },
    {
     "cell_type": "code",
     "collapsed": false,
     "input": [
      "projects = pd.read_csv('projects.csv')\n",
      "outcomes = pd.read_csv('outcomes.csv')\n",
      "samples = pd.read_csv('sampleSubmission.csv')\n",
      "\n",
      "projects = projects.sort('projectid')\n",
      "outcomes = outcomes.sort('projectid')\n",
      "samples = samples.sort('projectid')"
     ],
     "language": "python",
     "metadata": {},
     "outputs": [],
     "prompt_number": 19
    },
    {
     "cell_type": "code",
     "collapsed": false,
     "input": [
      "# ASSIGN WHAT TO TRAIN AND TEST ON\n",
      "\n",
      "#Create Labels\n",
      "le = pre.LabelEncoder()\n",
      "le.fit(outcomes['is_exciting'])\n",
      "outcomes['is_exciting']=le.transform(outcomes['is_exciting'])\n",
      "labels=outcomes['is_exciting']\n",
      "\n",
      "#create project array\n",
      "proj_arr = np.array(projects)\n",
      "\n",
      "#get train indx and test indx\n",
      "train_idx = np.where(proj_arr[:,-1] < '2014-01-01')[0]\n",
      "#train_idx=np.where(((proj_arr[:,-1] > '2013-01-01') & (proj_arr[:,-1] < '2014-01-01'))==True)[0]\n",
      "test_idx = np.where(proj_arr[:,-1] >= '2014-01-01')[0]\n"
     ],
     "language": "python",
     "metadata": {},
     "outputs": [],
     "prompt_number": 3
    },
    {
     "cell_type": "code",
     "collapsed": false,
     "input": [
      "#Prohect training Data\n",
      "traindata = proj_arr[train_idx,:]\n",
      "testdata = proj_arr[test_idx,:]\n",
      "\n",
      "#FURTHER SELECTIVE TRAINING DATA\n",
      "gTruth=np.column_stack((np.array(labels),np.array(projects.ix[train_idx,'date_posted'])))\n",
      "train_idx=np.where(((traindata[:,-1] > '2010-01-01') & (traindata[:,-1] < '2014-01-01'))==True)[0]\n",
      "labels=labels[new_idx]"
     ],
     "language": "python",
     "metadata": {},
     "outputs": [],
     "prompt_number": 4
    },
    {
     "cell_type": "code",
     "collapsed": false,
     "input": [],
     "language": "python",
     "metadata": {},
     "outputs": [],
     "prompt_number": 4
    },
    {
     "cell_type": "code",
     "collapsed": false,
     "input": [
      "def fill_nans(projects,col_heads):\n",
      "    le = pre.LabelEncoder()\n",
      "    for col in projects.columns:\n",
      "        if not isinstance(projects[col].values[0],(int, long, float, complex)) or any(pd.isnull(projects[col].values)) :\n",
      "            #THE if condition checks nan and non-numeric type and processes the data\n",
      "            uniq_val=pd.Series(projects[col].values.ravel()).unique()\n",
      "            while True:\n",
      "                indx=random.randint(0,len(uniq_val)-1)\n",
      "                if not pd.isnull(uniq_val[indx]):\n",
      "                    break   \n",
      "            projects[col]=projects[col].fillna(uniq_val[indx])\n",
      "            if col in col_heads:\n",
      "                le.fit(projects[col])\n",
      "                projects[col]=le.transform(projects[col])\n",
      "    return projects\n",
      "\n",
      "#takes pandas dataframe object has input\n",
      "def find_nonNumericalCol(df):\n",
      "    x= df.dtypes\n",
      "    indx=[]\n",
      "    for count in range(0,len(x)):\n",
      "        if x[count]=='object':\n",
      "            indx.append(count)   \n",
      "    return indx"
     ],
     "language": "python",
     "metadata": {},
     "outputs": [],
     "prompt_number": 6
    },
    {
     "cell_type": "code",
     "collapsed": false,
     "input": [
      "# COnvert non-numeric coloumns to one hot encoding        \n",
      "col_head=projects.columns.values.tolist()\n",
      "#indx=find_nonNumericalCol(projects)\n",
      "indx= [ 6,7,8,9,10,11,12,13,14,15,16,17,18,19,20,21,22,23,24,25,26,27,32,33,34]\n",
      "cols=[col_head[x] for x in indx]\n",
      "\n",
      "indx1=[4,5,28,29,30,31]\n",
      "cols1=[col_head[x] for x in indx1]"
     ],
     "language": "python",
     "metadata": {},
     "outputs": [],
     "prompt_number": 7
    },
    {
     "cell_type": "code",
     "collapsed": false,
     "input": [
      "projects=fill_nans(projects,col_head)\n",
      "proj=projects.drop(['projectid','teacher_acctid' ,'schoolid', 'school_ncesid'],axis=1)"
     ],
     "language": "python",
     "metadata": {},
     "outputs": [],
     "prompt_number": 8
    },
    {
     "cell_type": "code",
     "collapsed": false,
     "input": [
      "df=proj[cols]\n",
      "df_sm=projects[cols1]"
     ],
     "language": "python",
     "metadata": {},
     "outputs": [],
     "prompt_number": 9
    },
    {
     "cell_type": "code",
     "collapsed": false,
     "input": [
      "D=df.to_records(index=False)\n",
      "\n",
      "enc = OneHotEncoder()\n",
      "X=[]\n",
      "[X.append(list(item)) for item in D]\n",
      "data=enc.fit_transform(X)"
     ],
     "language": "python",
     "metadata": {},
     "outputs": [],
     "prompt_number": 10
    },
    {
     "cell_type": "code",
     "collapsed": false,
     "input": [
      "data1= np.array(df_sm)"
     ],
     "language": "python",
     "metadata": {},
     "outputs": [],
     "prompt_number": 11
    },
    {
     "cell_type": "code",
     "collapsed": false,
     "input": [
      "full_data=sps.hstack((data,data1),format='csr')\n",
      "training_data=full_data[train_idx]\n",
      "testing_data=full_data[test_idx]\n",
      "pickle.dump(training_data,open('training_project_data_2010','wb'))\n",
      "pickle.dump(testing_data,open('testing_project_data','wb'))"
     ],
     "language": "python",
     "metadata": {},
     "outputs": [],
     "prompt_number": 12
    },
    {
     "cell_type": "code",
     "collapsed": false,
     "input": [],
     "language": "python",
     "metadata": {},
     "outputs": [],
     "prompt_number": "*"
    },
    {
     "cell_type": "code",
     "collapsed": false,
     "input": [
      "clf = svm.LinearSVC()\n",
      "c_val= np.arange(0.001, 1, 0.1)\n",
      "param_grid = { \"loss\": [\"l1\"],\n",
      "              \"class_weight\":[\"auto\"],\n",
      "              \"C\": c_val.tolist()}\n",
      "grid_search = GridSearchCV(clf, param_grid=param_grid,scoring='roc_auc',n_jobs=10,verbose=1)\n",
      "start = time()\n",
      "grid_search.fit(pre.scale(training_data,with_mean=False),labels)\n",
      "print(\"GridSearchCV took %.2f seconds for %d candidate parameter settings.\"\n",
      "      % (time() - start, len(grid_search.grid_scores_)))"
     ],
     "language": "python",
     "metadata": {},
     "outputs": [
      {
       "output_type": "stream",
       "stream": "stdout",
       "text": [
        "Fitting 3 folds for each of 10 candidates, totalling 30 fits\n"
       ]
      },
      {
       "output_type": "stream",
       "stream": "stderr",
       "text": [
        "[Parallel(n_jobs=10)]: Done   1 jobs       | elapsed:   41.8s\n",
        "[Parallel(n_jobs=10)]: Done  30 out of  30 | elapsed:  9.3min finished\n"
       ]
      },
      {
       "output_type": "stream",
       "stream": "stdout",
       "text": [
        "GridSearchCV took 784.67 seconds for 10 candidate parameter settings.\n"
       ]
      }
     ],
     "prompt_number": 13
    },
    {
     "cell_type": "code",
     "collapsed": false,
     "input": [
      "best_parameters, score, _ = max(grid_search.grid_scores_, key=lambda x: x[1])\n",
      "best_parameters\n",
      "score"
     ],
     "language": "python",
     "metadata": {},
     "outputs": [
      {
       "output_type": "pyout",
       "prompt_number": 17,
       "text": [
        "0.50280805538810902"
       ]
      }
     ],
     "prompt_number": 17
    },
    {
     "cell_type": "code",
     "collapsed": false,
     "input": [
      "clf = svm.LinearSVC(loss='l1',class_weight='auto',C=0.5)\n",
      "clf.fit(pre.scale(training_data,with_mean=False), labels[train_idx]) "
     ],
     "language": "python",
     "metadata": {},
     "outputs": [
      {
       "output_type": "pyout",
       "prompt_number": 26,
       "text": [
        "LinearSVC(C=0.5, class_weight='auto', dual=True, fit_intercept=True,\n",
        "     intercept_scaling=1, loss='l1', multi_class='ovr', penalty='l2',\n",
        "     random_state=None, tol=0.0001, verbose=0)"
       ]
      }
     ],
     "prompt_number": 26
    },
    {
     "cell_type": "code",
     "collapsed": false,
     "input": [
      "preds=clf.predict(pre.scale(testing_data,with_mean=False))"
     ],
     "language": "python",
     "metadata": {},
     "outputs": [],
     "prompt_number": 31
    },
    {
     "cell_type": "code",
     "collapsed": false,
     "input": [
      "preds"
     ],
     "language": "python",
     "metadata": {},
     "outputs": [
      {
       "output_type": "pyout",
       "prompt_number": 35,
       "text": [
        "array([ nan,  nan,   0., ...,   0.,   0.,   0.])"
       ]
      }
     ],
     "prompt_number": 35
    },
    {
     "cell_type": "code",
     "collapsed": false,
     "input": [
      "#Write results to file\n",
      "\n",
      "samples['is_exciting'] = preds\n",
      "samples.to_csv('predictions_projects_lsvm_2013.csv', index = False)"
     ],
     "language": "python",
     "metadata": {},
     "outputs": [],
     "prompt_number": 29
    },
    {
     "cell_type": "code",
     "collapsed": false,
     "input": [
      "D_tr[1]"
     ],
     "language": "python",
     "metadata": {},
     "outputs": [
      {
       "output_type": "pyout",
       "prompt_number": 17,
       "text": [
        "(1904, 44, 12569, 2, 6777, 408, 0, 0, 0, 0, 0, 0, 3, 0, 0, 15, 3, 5, 3, 0, 1, 3, 0, 0, 4025)"
       ]
      }
     ],
     "prompt_number": 17
    },
    {
     "cell_type": "code",
     "collapsed": false,
     "input": [
      "data[train_idx]"
     ],
     "language": "python",
     "metadata": {},
     "outputs": [
      {
       "output_type": "pyout",
       "prompt_number": 40,
       "text": [
        "<619326x40762 sparse matrix of type '<type 'numpy.float64'>'\n",
        "\twith 15483150 stored elements in Compressed Sparse Row format>"
       ]
      }
     ],
     "prompt_number": 40
    },
    {
     "cell_type": "code",
     "collapsed": false,
     "input": [
      "training_data\n"
     ],
     "language": "python",
     "metadata": {},
     "outputs": [
      {
       "output_type": "pyout",
       "prompt_number": 44,
       "text": [
        "<619326x40768 sparse matrix of type '<type 'numpy.float64'>'\n",
        "\twith 19131564 stored elements in Compressed Sparse Row format>"
       ]
      }
     ],
     "prompt_number": 44
    },
    {
     "cell_type": "code",
     "collapsed": false,
     "input": [
      "testing_data"
     ],
     "language": "python",
     "metadata": {},
     "outputs": [
      {
       "output_type": "pyout",
       "prompt_number": 45,
       "text": [
        "<44772x40768 sparse matrix of type '<type 'numpy.float64'>'\n",
        "\twith 1387932 stored elements in Compressed Sparse Row format>"
       ]
      }
     ],
     "prompt_number": 45
    },
    {
     "cell_type": "code",
     "collapsed": false,
     "input": [],
     "language": "python",
     "metadata": {},
     "outputs": []
    }
   ],
   "metadata": {}
  }
 ]
}