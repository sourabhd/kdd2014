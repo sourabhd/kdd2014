{
 "metadata": {
  "name": ""
 },
 "nbformat": 3,
 "nbformat_minor": 0,
 "worksheets": [
  {
   "cells": [
    {
     "cell_type": "code",
     "collapsed": false,
     "input": [
      "import pandas as pd\n",
      "import numpy as np\n",
      "import matplotlib.pyplot as plt\n",
      "import sklearn.preprocessing as pre\n",
      "from sklearn import linear_model, cross_validation,svm\n",
      "from sklearn.feature_extraction import DictVectorizer\n",
      "import random\n",
      "import math\n",
      "import pylab as P\n",
      "%matplotlib inline  "
     ],
     "language": "python",
     "metadata": {},
     "outputs": [],
     "prompt_number": 1
    },
    {
     "cell_type": "code",
     "collapsed": false,
     "input": [
      "projects = pd.read_csv('projects.csv')\n",
      "outcomes = pd.read_csv('outcomes.csv')\n",
      "groundTruth=[]"
     ],
     "language": "python",
     "metadata": {},
     "outputs": [],
     "prompt_number": 2
    },
    {
     "cell_type": "raw",
     "metadata": {},
     "source": [
      "Modify all non-numeric true and false fields to unique values"
     ]
    },
    {
     "cell_type": "code",
     "collapsed": false,
     "input": [
      "def one_hot_dataframe(data, cols, replace=False):\n",
      "    \"\"\" Takes a dataframe and a list of columns that need to be encoded.\n",
      "        Returns a 3-tuple comprising the data, the vectorized data,\n",
      "        and the fitted vectorizor.\n",
      "    \"\"\"\n",
      "    vec = DictVectorizer()\n",
      "    mkdict = lambda row: dict((col, row[col]) for col in cols)\n",
      "    vecData = pd.DataFrame(vec.fit_transform(data[cols].to_dict(outtype='records')).toarray())\n",
      "    vecData.columns = vec.get_feature_names()\n",
      "    vecData.index = data.index\n",
      "    if replace is True:\n",
      "        data = data.drop(cols, axis=1)\n",
      "        data = data.join(vecData)\n",
      "    return (data, vecData, vec)\n",
      "\n",
      "#take pandas dataframe object has input\n",
      "def find_nonNumericalCol(df):\n",
      "    x= df.dtypes\n",
      "    indx=[]\n",
      "    for count in range(0,len(x)):\n",
      "        if x[count]=='object':\n",
      "            indx.append(count)   \n",
      "    return indx"
     ],
     "language": "python",
     "metadata": {},
     "outputs": [],
     "prompt_number": 3
    },
    {
     "cell_type": "code",
     "collapsed": false,
     "input": [
      "le = pre.LabelEncoder()\n",
      "le.fit(outcomes['is_exciting'])\n",
      "outcomes['is_exciting']=le.transform(outcomes['is_exciting'])\n",
      "groundTruth=outcomes['is_exciting']\n",
      "\n",
      "for col in projects.columns:\n",
      "    if not isinstance(projects[col].values[0],(int, long, float, complex)) or any(pd.isnull(projects[col].values)) :\n",
      "        #THE if condition checks nan and non-numeric type and processes the data\n",
      "        uniq_val=pd.Series(projects[col].values.ravel()).unique()\n",
      "        while True:\n",
      "            indx=random.randint(0,len(uniq_val)-1)\n",
      "            if not pd.isnull(uniq_val[indx]):\n",
      "                break   \n",
      "        projects[col]=projects[col].fillna(uniq_val[indx]);\n",
      "        #le.fit(projects[col])\n",
      "        #projects[col]=le.transform(projects[col])\n",
      "        \n",
      "# COnvert non-numeric coloumns to one hot encoding        \n",
      "col_head=projects.columns.values.tolist()\n",
      "indx=find_nonNumericalCol(projects)\n",
      "col_head=[col_head[x] for x in indx]\n",
      "\n",
      "# Vectorize the categorical columns: \n",
      "#projects, _, _ = one_hot_dataframe(projects,col_head, replace=True)"
     ],
     "language": "python",
     "metadata": {},
     "outputs": [],
     "prompt_number": 7
    },
    {
     "cell_type": "code",
     "collapsed": false,
     "input": [],
     "language": "python",
     "metadata": {},
     "outputs": [
      {
       "metadata": {},
       "output_type": "pyout",
       "prompt_number": 12,
       "text": [
        "27"
       ]
      }
     ],
     "prompt_number": 12
    },
    {
     "cell_type": "raw",
     "metadata": {},
     "source": [
      "Convert pandas to numpy matrix and standerdize each feature"
     ]
    },
    {
     "cell_type": "code",
     "collapsed": false,
     "input": [
      "data=projects.as_matrix()\n",
      "data=data[:,1:]\n",
      "[m,n]= data.shape\n",
      "for col in range(0,n):\n",
      "    data[:,col]=pre.scale(data[:,col])\n",
      "\n",
      "#ASSIGN TRAIN AN TEST DATA\n",
      "train_data= data[0:619326,:]\n",
      "test_data= data[619327:,:]\n",
      "\n",
      "print train_data.shape\n",
      "print test_data.shape\n",
      "print len(groundTruth)"
     ],
     "language": "python",
     "metadata": {},
     "outputs": [
      {
       "output_type": "stream",
       "stream": "stdout",
       "text": [
        "(619326, 34)\n",
        "(44771, 34)\n",
        "619326\n"
       ]
      }
     ],
     "prompt_number": 12
    },
    {
     "cell_type": "code",
     "collapsed": false,
     "input": [
      "X_train, X_test, y_train, y_test = cross_validation.train_test_split(\n",
      "...     train_data, groundTruth, test_size=0.2, random_state=0)\n",
      "\n",
      "print X_train.shape, y_train.shape\n",
      "print X_test.shape, y_test.shape"
     ],
     "language": "python",
     "metadata": {},
     "outputs": [
      {
       "output_type": "stream",
       "stream": "stdout",
       "text": [
        "(495460, 34) (495460,)\n",
        "(123866, 34) (123866,)\n"
       ]
      }
     ],
     "prompt_number": 15
    },
    {
     "cell_type": "code",
     "collapsed": false,
     "input": [
      "logreg = linear_model.LogisticRegression(C=1)\n",
      "\n",
      "# we create an instance of Neighbours Classifier and fit the data.\n",
      "clf=logreg.fit(X_train, y_train)\n",
      "ans=clf.predict(X_test)"
     ],
     "language": "python",
     "metadata": {},
     "outputs": [],
     "prompt_number": 14
    },
    {
     "cell_type": "code",
     "collapsed": false,
     "input": [
      "rbf_svc = svm.SVC(kernel='linear', gamma=0.7, C=1).fit(X_train, y_train)\n",
      "ans=rbf_svc.predict(X_test)"
     ],
     "language": "python",
     "metadata": {},
     "outputs": [],
     "prompt_number": "*"
    },
    {
     "cell_type": "code",
     "collapsed": false,
     "input": [
      "scores = cross_validation.cross_val_score(\n",
      "...    clf, train_data, groundTruth, cv=10)"
     ],
     "language": "python",
     "metadata": {},
     "outputs": [
      {
       "ename": "NameError",
       "evalue": "name 'clf' is not defined",
       "output_type": "pyerr",
       "traceback": [
        "\u001b[1;31m---------------------------------------------------------------------------\u001b[0m\n\u001b[1;31mNameError\u001b[0m                                 Traceback (most recent call last)",
        "\u001b[1;32m<ipython-input-5-35b2eed21842>\u001b[0m in \u001b[0;36m<module>\u001b[1;34m()\u001b[0m\n\u001b[0;32m      1\u001b[0m scores = cross_validation.cross_val_score(\n\u001b[1;32m----> 2\u001b[1;33m    clf, train_data, groundTruth, cv=10)\n\u001b[0m",
        "\u001b[1;31mNameError\u001b[0m: name 'clf' is not defined"
       ]
      }
     ],
     "prompt_number": 5
    },
    {
     "cell_type": "code",
     "collapsed": false,
     "input": [
      "print scores"
     ],
     "language": "python",
     "metadata": {},
     "outputs": [
      {
       "ename": "NameError",
       "evalue": "name 'scores' is not defined",
       "output_type": "pyerr",
       "traceback": [
        "\u001b[1;31m---------------------------------------------------------------------------\u001b[0m\n\u001b[1;31mNameError\u001b[0m                                 Traceback (most recent call last)",
        "\u001b[1;32m<ipython-input-6-02c103c3c41a>\u001b[0m in \u001b[0;36m<module>\u001b[1;34m()\u001b[0m\n\u001b[1;32m----> 1\u001b[1;33m \u001b[1;32mprint\u001b[0m \u001b[0mscores\u001b[0m\u001b[1;33m\u001b[0m\u001b[0m\n\u001b[0m",
        "\u001b[1;31mNameError\u001b[0m: name 'scores' is not defined"
       ]
      }
     ],
     "prompt_number": 6
    },
    {
     "cell_type": "code",
     "collapsed": false,
     "input": [
      "hist= plt.hist(groundTruth)\n",
      "plt.show()"
     ],
     "language": "python",
     "metadata": {},
     "outputs": [
      {
       "ename": "NameError",
       "evalue": "name 'groundTruth' is not defined",
       "output_type": "pyerr",
       "traceback": [
        "\u001b[1;31m---------------------------------------------------------------------------\u001b[0m\n\u001b[1;31mNameError\u001b[0m                                 Traceback (most recent call last)",
        "\u001b[1;32m<ipython-input-7-259e0e956be8>\u001b[0m in \u001b[0;36m<module>\u001b[1;34m()\u001b[0m\n\u001b[1;32m----> 1\u001b[1;33m \u001b[0mhist\u001b[0m\u001b[1;33m=\u001b[0m \u001b[0mplt\u001b[0m\u001b[1;33m.\u001b[0m\u001b[0mhist\u001b[0m\u001b[1;33m(\u001b[0m\u001b[0mgroundTruth\u001b[0m\u001b[1;33m)\u001b[0m\u001b[1;33m\u001b[0m\u001b[0m\n\u001b[0m\u001b[0;32m      2\u001b[0m \u001b[0mplt\u001b[0m\u001b[1;33m.\u001b[0m\u001b[0mshow\u001b[0m\u001b[1;33m(\u001b[0m\u001b[1;33m)\u001b[0m\u001b[1;33m\u001b[0m\u001b[0m\n",
        "\u001b[1;31mNameError\u001b[0m: name 'groundTruth' is not defined"
       ]
      }
     ],
     "prompt_number": 7
    },
    {
     "cell_type": "code",
     "collapsed": false,
     "input": [],
     "language": "python",
     "metadata": {},
     "outputs": [],
     "prompt_number": "*"
    },
    {
     "cell_type": "code",
     "collapsed": false,
     "input": [],
     "language": "python",
     "metadata": {},
     "outputs": [],
     "prompt_number": "*"
    },
    {
     "cell_type": "code",
     "collapsed": false,
     "input": [],
     "language": "python",
     "metadata": {},
     "outputs": [],
     "prompt_number": "*"
    }
   ],
   "metadata": {}
  }
 ]
}